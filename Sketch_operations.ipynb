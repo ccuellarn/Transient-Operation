{
 "cells": [
  {
   "cell_type": "code",
   "execution_count": 85,
   "id": "20051ab5-f0d8-4d82-a00b-3673882c19f6",
   "metadata": {},
   "outputs": [],
   "source": [
    "import numpy as np\n",
    "import matplotlib.pyplot as plt\n",
    "import pandas as pd\n",
    "from scipy import constants as C\n",
    "from astropy.coordinates import SkyCoord, EarthLocation, AltAz\n",
    "from astropy.time import Time\n",
    "from astropy import units as u"
   ]
  },
  {
   "cell_type": "markdown",
   "id": "dac6ee35",
   "metadata": {},
   "source": [
    "**Conditional about observations:**\n",
    "\n",
    "The user gives the latitude and the functions returns if the phenomenon can be see it or not. This using the conditional \"altitude > 0 degrees\" but with the difference of taking into account the time of observation on the altitude-Azimuth coordinate system; this is the equivalent ofr the conditional of \"dec > 90-latitude\".   \n",
    "\n",
    "Alert system's input format: RA, Dec (hmsdms); Latitude, longitude (DMS); militar hour (hms) using J200 \n",
    "(Reference: https://ztf.uw.edu/alerts/public/)\n",
    "\n",
    "**About the sing on the coordinates**\n",
    " A positive value for North and East, a negative value for South and West. (Reference: https://tnp.uservoice.com/knowledgebase/articles/172110-latitude-longitude-formats-and-conversion)"
   ]
  },
  {
   "cell_type": "code",
   "execution_count": 86,
   "id": "b149a685",
   "metadata": {},
   "outputs": [],
   "source": [
    "#Playtime data\n",
    "lat_obs = '4-35-56-N' \n",
    "lon_obs = '74-04-51-W'   \n",
    "# Aldebaran,  \n",
    "ra_list = ['04h35m55.64s','02h31m19.79s','16h29m24.17s'] \n",
    "dec_list = ['+16d30m27.2s','+89d16m10.10s','-26d25m53.56s']\n",
    "date = '2025-02-17 21:30:00'\n",
    "name = ['Aldebaran','Polar Star', 'Antares']\n",
    "#SI, si, no"
   ]
  },
  {
   "cell_type": "code",
   "execution_count": 87,
   "id": "19bf4315",
   "metadata": {},
   "outputs": [
    {
     "data": {
      "text/plain": [
       "-74.08083333333333"
      ]
     },
     "execution_count": 87,
     "metadata": {},
     "output_type": "execute_result"
    }
   ],
   "source": [
    "#Convert the DMS format to degrees\n",
    "def ConvertLaLo(l):\n",
    "    l_ = l.split('-')\n",
    "    D = float(l_[0])\n",
    "    M = float(l_[1])\n",
    "    S = float(l_[2])\n",
    "    dir = l_[3]\n",
    "    r = D + (M/60) + (S/3600)\n",
    "    if dir=='W' or dir=='S':\n",
    "        return r*(-1)\n",
    "    else:\n",
    "        return r\n",
    "\n",
    "ConvertLaLo(lon_obs)"
   ]
  },
  {
   "cell_type": "code",
   "execution_count": 88,
   "id": "c72624e5",
   "metadata": {},
   "outputs": [
    {
     "data": {
      "text/html": [
       "<div>\n",
       "<style scoped>\n",
       "    .dataframe tbody tr th:only-of-type {\n",
       "        vertical-align: middle;\n",
       "    }\n",
       "\n",
       "    .dataframe tbody tr th {\n",
       "        vertical-align: top;\n",
       "    }\n",
       "\n",
       "    .dataframe thead th {\n",
       "        text-align: right;\n",
       "    }\n",
       "</style>\n",
       "<table border=\"1\" class=\"dataframe\">\n",
       "  <thead>\n",
       "    <tr style=\"text-align: right;\">\n",
       "      <th></th>\n",
       "      <th>Observable</th>\n",
       "      <th>RA</th>\n",
       "      <th>Dec</th>\n",
       "    </tr>\n",
       "  </thead>\n",
       "  <tbody>\n",
       "    <tr>\n",
       "      <th>0</th>\n",
       "      <td>True</td>\n",
       "      <td>04h35m55.64s</td>\n",
       "      <td>+16d30m27.2s</td>\n",
       "    </tr>\n",
       "    <tr>\n",
       "      <th>1</th>\n",
       "      <td>True</td>\n",
       "      <td>02h31m19.79s</td>\n",
       "      <td>+89d16m10.10s</td>\n",
       "    </tr>\n",
       "    <tr>\n",
       "      <th>2</th>\n",
       "      <td>False</td>\n",
       "      <td>16h29m24.17s</td>\n",
       "      <td>-26d25m53.56s</td>\n",
       "    </tr>\n",
       "  </tbody>\n",
       "</table>\n",
       "</div>"
      ],
      "text/plain": [
       "   Observable            RA            Dec\n",
       "0        True  04h35m55.64s   +16d30m27.2s\n",
       "1        True  02h31m19.79s  +89d16m10.10s\n",
       "2       False  16h29m24.17s  -26d25m53.56s"
      ]
     },
     "execution_count": 88,
     "metadata": {},
     "output_type": "execute_result"
    }
   ],
   "source": [
    "def Observations(longitude, latitude, RA, DEC, Date):\n",
    "    time_obs = Time(Date)\n",
    "    lat_conv = ConvertLaLo(latitude)\n",
    "    lon_conv = ConvertLaLo(longitude)\n",
    "    observer = EarthLocation(lat=lat_conv*u.deg, lon=lon_conv*u.deg)\n",
    "    Conditionals = []\n",
    "\n",
    "    for i in range(0,len(RA)):\n",
    "\n",
    "        celestial_coord = SkyCoord(ra=RA[i], dec=DEC[i]) #mantain the degrees units\n",
    "\n",
    "        # Calculate the coordenates AltAz for the time and observer\n",
    "        frame_altaz = AltAz(obstime=time_obs, location=observer)\n",
    "        altaz_coord = celestial_coord.transform_to(frame_altaz) #Transform for the J200 coordinate system for altaz\n",
    "    \n",
    "        # Determinate if its observable (altitude > 0 degrees), return a boolean\n",
    "        Conditionals.append(altaz_coord.alt > 0*u.deg)\n",
    "\n",
    "    #Put everything on a dataframe in the format for better reading\n",
    "    Data = pd.DataFrame([])\n",
    "    Data.style.set_caption(Date)\n",
    "    Data['Observable'] = Conditionals\n",
    "    Data['RA'] = RA\n",
    "    Data['Dec'] = DEC\n",
    "\n",
    "    return Data\n",
    "\n",
    "Observations(lon_obs, lat_obs, ra_list, dec_list, date)"
   ]
  }
 ],
 "metadata": {
  "kernelspec": {
   "display_name": "base",
   "language": "python",
   "name": "python3"
  },
  "language_info": {
   "codemirror_mode": {
    "name": "ipython",
    "version": 3
   },
   "file_extension": ".py",
   "mimetype": "text/x-python",
   "name": "python",
   "nbconvert_exporter": "python",
   "pygments_lexer": "ipython3",
   "version": "3.11.7"
  }
 },
 "nbformat": 4,
 "nbformat_minor": 5
}
