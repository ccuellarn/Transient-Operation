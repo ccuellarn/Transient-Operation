{
 "cells": [
  {
   "cell_type": "code",
   "execution_count": 2,
   "id": "20051ab5-f0d8-4d82-a00b-3673882c19f6",
   "metadata": {},
   "outputs": [],
   "source": [
    "import numpy as np\n",
    "import matplotlib.pyplot as plt\n",
    "import pandas as pd\n",
    "import sympy as sym\n",
    "from scipy import constants as C"
   ]
  },
  {
   "cell_type": "markdown",
   "id": "dac6ee35",
   "metadata": {},
   "source": [
    "**Conditional about observations:**\n",
    "\n",
    "The user gives the latitude and the functions returns if the phenomenon can be see it or not. This using the conditional about declination and latitude.\n",
    "\n",
    "Alert system's format DESI:\n"
   ]
  },
  {
   "cell_type": "code",
   "execution_count": 10,
   "id": "81b393fb-e8eb-4db4-8674-aff753456b5d",
   "metadata": {},
   "outputs": [
    {
     "data": {
      "text/plain": [
       "(True, (80, 55, 'Sirius'))"
      ]
     },
     "execution_count": 10,
     "metadata": {},
     "output_type": "execute_result"
    }
   ],
   "source": [
    "A = [(80,55,\"Sirius\")]\n",
    "def ConditionalObservations(Latitude, AlertCoor):\n",
    "    for each in AlertCoor:\n",
    "        if each[0] <90 - Latitude:\n",
    "            return True,each\n",
    "        else:\n",
    "            return False\n",
    "\n",
    "ConditionalObservations(5, A) "
   ]
  }
 ],
 "metadata": {
  "kernelspec": {
   "display_name": "base",
   "language": "python",
   "name": "python3"
  },
  "language_info": {
   "codemirror_mode": {
    "name": "ipython",
    "version": 3
   },
   "file_extension": ".py",
   "mimetype": "text/x-python",
   "name": "python",
   "nbconvert_exporter": "python",
   "pygments_lexer": "ipython3",
   "version": "3.11.7"
  }
 },
 "nbformat": 4,
 "nbformat_minor": 5
}
