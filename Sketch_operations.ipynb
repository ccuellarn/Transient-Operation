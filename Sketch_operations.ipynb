{
 "cells": [
  {
   "cell_type": "code",
   "execution_count": 4,
   "id": "20051ab5-f0d8-4d82-a00b-3673882c19f6",
   "metadata": {},
   "outputs": [],
   "source": [
    "import numpy as np\n",
    "import matplotlib.pyplot as plt\n",
    "import pandas as pd\n",
    "from scipy import constants as C\n",
    "from astropy.coordinates import SkyCoord, EarthLocation, AltAz\n",
    "from astropy.time import Time\n",
    "from astropy import units as u"
   ]
  },
  {
   "cell_type": "markdown",
   "id": "dac6ee35",
   "metadata": {},
   "source": [
    "**Conditional about observations:**\n",
    "\n",
    "The user gives the latitude and the functions returns if the phenomenon can be see it or not. This using the conditional about declination and latitude.\n",
    "\n",
    "Alert system's format DESI:\n"
   ]
  },
  {
   "cell_type": "code",
   "execution_count": null,
   "id": "b149a685",
   "metadata": {},
   "outputs": [
    {
     "data": {
      "text/plain": [
       "<SkyCoord (AltAz: obstime=2025-02-13 22:00:00.000, location=(1753798.85431485, 6116223.45612925, 441945.105248) m, pressure=0.0 hPa, temperature=0.0 deg_C, relative_humidity=0.0, obswl=1.0 micron): (az, alt) in deg\n",
       "    [(350.30593765,  1.64043292), (348.33998787,  1.5837905 ),\n",
       "     (321.85806626, -6.13559436)]>"
      ]
     },
     "execution_count": 18,
     "metadata": {},
     "output_type": "execute_result"
    }
   ],
   "source": [
    "lat_obs = 4  # Latitud del observatorio en grados \n",
    "lon_obs = 74  # Longitud del observatorio en grados \n",
    "ra_list = [83.633, 85.792, 82.985]  # Lista de RA en grados\n",
    "dec_list = [80.014, 78.091, 50.568]  # Lista de Dec en grados\n",
    "\n",
    "tiempo = Time('2025-02-13 22:00:00')\n",
    "\n",
    "observatorio = EarthLocation(lat=lat_obs*u.deg, lon=lon_obs*u.deg)\n",
    "\n",
    "coordenadas_celestes = SkyCoord(ra=ra_list*u.deg, dec=dec_list*u.deg)\n",
    "\n",
    "    # Calcular las coordenadas altazimutales para el tiempo y ubicación dados\n",
    "frame_altaz = AltAz(obstime=tiempo, location=observatorio)\n",
    "coordenadas_altaz = coordenadas_celestes.transform_to(frame_altaz)\n",
    "    \n",
    "    # Determinar si el objeto es observable (altitud > 0 grados)\n",
    "observable = coordenadas_altaz.alt > 0*u.deg\n",
    "\n",
    "coordenadas_altaz"
   ]
  },
  {
   "cell_type": "code",
   "execution_count": 25,
   "id": "b0de2e77",
   "metadata": {},
   "outputs": [
    {
     "data": {
      "text/plain": [
       "<SkyCoord (AltAz: obstime=2025-02-13 22:00:00.000, location=(1753798.85431485, 6116223.45612925, 441945.105248) m, pressure=0.0 hPa, temperature=0.0 deg_C, relative_humidity=0.0, obswl=1.0 micron): (az, alt) in deg\n",
       "    (357.01634897, -44.51787807)>"
      ]
     },
     "execution_count": 25,
     "metadata": {},
     "output_type": "execute_result"
    }
   ],
   "source": [
    "#c.to_string('hmsdms') '00h42m44.2992s +41d16m09.012s'\n",
    "#c.to_string('decimal') '10.56 +29.865'\n",
    "a = SkyCoord(ra='00h42m44.2992s', dec='+41d16m09.012s')\n",
    "a.transform_to(frame_altaz) \n"
   ]
  },
  {
   "cell_type": "markdown",
   "id": "a9213166",
   "metadata": {},
   "source": [
    "Retornar las coordenadas dle objeto con la lista de booleanos y la grafica de la carta celeste"
   ]
  }
 ],
 "metadata": {
  "kernelspec": {
   "display_name": "base",
   "language": "python",
   "name": "python3"
  },
  "language_info": {
   "codemirror_mode": {
    "name": "ipython",
    "version": 3
   },
   "file_extension": ".py",
   "mimetype": "text/x-python",
   "name": "python",
   "nbconvert_exporter": "python",
   "pygments_lexer": "ipython3",
   "version": "3.11.7"
  }
 },
 "nbformat": 4,
 "nbformat_minor": 5
}
