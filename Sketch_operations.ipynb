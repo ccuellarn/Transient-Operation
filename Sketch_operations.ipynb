{
 "cells": [
  {
   "cell_type": "code",
   "execution_count": 91,
   "id": "20051ab5-f0d8-4d82-a00b-3673882c19f6",
   "metadata": {},
   "outputs": [],
   "source": [
    "import numpy as np\n",
    "import matplotlib.pyplot as plt\n",
    "import pandas as pd\n",
    "from scipy import constants as C\n",
    "from astropy.coordinates import SkyCoord, EarthLocation, AltAz\n",
    "from astropy.time import Time\n",
    "from astropy import units as u\n",
    "import tqdm \n",
    "from astropy.wcs import WCS\n",
    "from astropy.visualization.wcsaxes import WCSAxes"
   ]
  },
  {
   "cell_type": "markdown",
   "id": "dac6ee35",
   "metadata": {},
   "source": [
    "### 17th Feb:\n",
    "\n",
    "**Conditional about observations:**\n",
    "\n",
    "The user gives the latitude and the functions returns if the phenomenon can be see it or not. This using the conditional \"altitude > 0 degrees\" but with the difference of taking into account the time of observation on the altitude-Azimuth coordinate system; this is the equivalent ofr the conditional of \"dec > 90-latitude\".   \n",
    "\n",
    "Alert system's input format: RA, Dec (hmsdms); Latitude, longitude (DMS); militar hour (hms) using J200 \n",
    "(Reference: https://ztf.uw.edu/alerts/public/)\n",
    "\n",
    "**About the sing on the coordinates**\n",
    " A positive value for North and East, a negative value for South and West. (Reference: https://tnp.uservoice.com/knowledgebase/articles/172110-latitude-longitude-formats-and-conversion)"
   ]
  },
  {
   "cell_type": "code",
   "execution_count": 92,
   "id": "b149a685",
   "metadata": {},
   "outputs": [],
   "source": [
    "#Playtime data\n",
    "lat_obs = '4-35-56-N' \n",
    "lon_obs = '74-04-51-W'   \n",
    "name = ['Aldebaran','Polar Star', 'Antares']\n",
    "ra_list = ['04h35m55.64s','02h31m19.79s','16h29m24.17s'] \n",
    "dec_list = ['+16d30m27.2s','+89d16m10.10s','-26d25m53.56s']\n",
    "date = '2025-02-17 21:30:00'\n",
    "\n",
    "#moving time\n",
    "date_i = '2025-02-17 19:30:00'\n",
    "date_f = '2025-02-18 07:00:00'\n",
    "timescale = ['m', 10]"
   ]
  },
  {
   "cell_type": "code",
   "execution_count": 93,
   "id": "19bf4315",
   "metadata": {},
   "outputs": [
    {
     "data": {
      "text/plain": [
       "-74.08083333333333"
      ]
     },
     "execution_count": 93,
     "metadata": {},
     "output_type": "execute_result"
    }
   ],
   "source": [
    "#Convert the DMS format to degrees\n",
    "def ConvertLaLo(l):\n",
    "    l_ = l.split('-')\n",
    "    D = float(l_[0])\n",
    "    M = float(l_[1])\n",
    "    S = float(l_[2])\n",
    "    dir = l_[3]\n",
    "    r = D + (M/60) + (S/3600)\n",
    "    if dir=='W' or dir=='S':\n",
    "        return r*(-1)\n",
    "    else:\n",
    "        return r\n",
    "\n",
    "ConvertLaLo(lon_obs)"
   ]
  },
  {
   "cell_type": "code",
   "execution_count": 94,
   "id": "c72624e5",
   "metadata": {},
   "outputs": [
    {
     "data": {
      "text/html": [
       "<div>\n",
       "<style scoped>\n",
       "    .dataframe tbody tr th:only-of-type {\n",
       "        vertical-align: middle;\n",
       "    }\n",
       "\n",
       "    .dataframe tbody tr th {\n",
       "        vertical-align: top;\n",
       "    }\n",
       "\n",
       "    .dataframe thead th {\n",
       "        text-align: right;\n",
       "    }\n",
       "</style>\n",
       "<table border=\"1\" class=\"dataframe\">\n",
       "  <thead>\n",
       "    <tr style=\"text-align: right;\">\n",
       "      <th></th>\n",
       "      <th>Observable</th>\n",
       "      <th>RA</th>\n",
       "      <th>Dec</th>\n",
       "    </tr>\n",
       "  </thead>\n",
       "  <tbody>\n",
       "    <tr>\n",
       "      <th>0</th>\n",
       "      <td>True</td>\n",
       "      <td>04h35m55.64s</td>\n",
       "      <td>+16d30m27.2s</td>\n",
       "    </tr>\n",
       "    <tr>\n",
       "      <th>1</th>\n",
       "      <td>True</td>\n",
       "      <td>02h31m19.79s</td>\n",
       "      <td>+89d16m10.10s</td>\n",
       "    </tr>\n",
       "    <tr>\n",
       "      <th>2</th>\n",
       "      <td>False</td>\n",
       "      <td>16h29m24.17s</td>\n",
       "      <td>-26d25m53.56s</td>\n",
       "    </tr>\n",
       "  </tbody>\n",
       "</table>\n",
       "</div>"
      ],
      "text/plain": [
       "   Observable            RA            Dec\n",
       "0        True  04h35m55.64s   +16d30m27.2s\n",
       "1        True  02h31m19.79s  +89d16m10.10s\n",
       "2       False  16h29m24.17s  -26d25m53.56s"
      ]
     },
     "execution_count": 94,
     "metadata": {},
     "output_type": "execute_result"
    }
   ],
   "source": [
    "def Observations(longitude, latitude, RA, DEC, Date):\n",
    "    time_obs = Time(Date)\n",
    "    lat_conv = ConvertLaLo(latitude)\n",
    "    lon_conv = ConvertLaLo(longitude)\n",
    "    observer = EarthLocation(lat=lat_conv*u.deg, lon=lon_conv*u.deg)\n",
    "    Conditionals = []\n",
    "\n",
    "    for i in range(0,len(RA)):\n",
    "\n",
    "        celestial_coord = SkyCoord(ra=RA[i], dec=DEC[i]) #mantain the degrees units\n",
    "\n",
    "        # Calculate the coordenates AltAz for the time and observer\n",
    "        frame_altaz = AltAz(obstime=time_obs, location=observer)\n",
    "        altaz_coord = celestial_coord.transform_to(frame_altaz) #Transform for the J200 coordinate system for altaz\n",
    "    \n",
    "        # Determinate if its observable (altitude > 0 degrees), return a boolean\n",
    "        Conditionals.append(altaz_coord.alt > 0*u.deg)\n",
    "\n",
    "    #Put everything on a dataframe in the format for better reading\n",
    "    Data = pd.DataFrame([])\n",
    "    Data.style.set_caption(Date)\n",
    "    Data['Observable'] = Conditionals\n",
    "    Data['RA'] = RA\n",
    "    Data['Dec'] = DEC\n",
    "\n",
    "    return Data\n",
    "\n",
    "Observations(lon_obs, lat_obs, ra_list, dec_list, date)"
   ]
  },
  {
   "cell_type": "markdown",
   "id": "3cf12bcb",
   "metadata": {},
   "source": [
    "### 21th Feb\n",
    "\n",
    "Now we need to expand the function for a time slot, establish by the user. With this condition, is necesary to report if its observable. An idea is refreshing the dataframe with a nonsmall step, such we can determine if the function is returning what we want. \n",
    "\n",
    "Change the scale of time to UTC and keep the format iso for maintain the international format.\n",
    "\n",
    "Actually, the function Time of astropy simplifies the code because allows sum seconds, hour and minutes in a line.\n",
    "(Reference: https://docs.astropy.org/en/stable/api/astropy.time.Time.html#astropy.time.Time.FORMATS)"
   ]
  },
  {
   "cell_type": "code",
   "execution_count": 95,
   "id": "f37536ea",
   "metadata": {},
   "outputs": [
    {
     "data": {
      "text/plain": [
       "<Time object: scale='utc' format='iso' value=2025-02-17 22:30:00.000>"
      ]
     },
     "execution_count": 95,
     "metadata": {},
     "output_type": "execute_result"
    }
   ],
   "source": [
    "def MoveTime(time_actual,scale,sc):\n",
    "    if scale == 's':\n",
    "        t = time_actual + sc*u.second \n",
    "    if scale == 'm':\n",
    "        t = time_actual + sc*u.minute\n",
    "    if scale == 'h':\n",
    "        t = time_actual + sc*u.hour\n",
    "\n",
    "    return t\n",
    "\n",
    "MoveTime(Time(date,scale='utc',format='iso'),'h',1)"
   ]
  },
  {
   "cell_type": "code",
   "execution_count": 96,
   "id": "fb84a823",
   "metadata": {},
   "outputs": [],
   "source": [
    "#With time slot and optimized\n",
    "\n",
    "def Observations(longitude, latitude, RA, DEC, Date_i, Date_f,time_scale):\n",
    "    actual_time = Time(Date_i,format = 'iso', scale='utc')\n",
    "    final_time = Time(Date_f,format = 'iso', scale='utc')\n",
    "    lat_conv = ConvertLaLo(latitude)\n",
    "    lon_conv = ConvertLaLo(longitude)\n",
    "    observer = EarthLocation(lat=lat_conv*u.deg, lon=lon_conv*u.deg)\n",
    "    Big_Data = []\n",
    "    Time_values = []\n",
    "\n",
    "    while actual_time <= final_time:\n",
    "        Conditionals = []\n",
    "\n",
    "        for i in range(0,len(RA)):\n",
    "\n",
    "            celestial_coord = SkyCoord(ra=RA[i], dec=DEC[i]) #mantain the degrees units\n",
    "\n",
    "            # Calculate the coordenates AltAz for the time and observer\n",
    "            frame_altaz = AltAz(obstime=actual_time, location=observer)\n",
    "            altaz_coord = celestial_coord.transform_to(frame_altaz) #Transform for the J200 coordinate system for altaz\n",
    "    \n",
    "            # Determinate if its observable (altitude > 0 degrees), return a boolean\n",
    "            Conditionals.append(altaz_coord.alt > 0*u.deg)\n",
    "\n",
    "        #Put everything on a dataframe in the format for better reading\n",
    "        Data = pd.DataFrame([])\n",
    "        Data['Observable'] = Conditionals\n",
    "        Data['RA'] = RA\n",
    "        Data['Dec'] = DEC\n",
    "        Big_Data.append(Data) \n",
    "        Time_values.append(actual_time)\n",
    "\n",
    "        actual_time = MoveTime(actual_time,time_scale[0],time_scale[1])\n",
    "\n",
    "    return Big_Data,Time_values\n",
    "\n",
    "Data, times = Observations(lon_obs, lat_obs, ra_list, dec_list, date_i, date_f,timescale)"
   ]
  },
  {
   "cell_type": "markdown",
   "id": "530376b6",
   "metadata": {},
   "source": [
    "### 24 Feb\n",
    "Try to simulate for see in the time slot only the observables with the observer as the center. First we need to get the coordinates of the observables in the altaz format."
   ]
  },
  {
   "cell_type": "code",
   "execution_count": 97,
   "id": "7fec94e8",
   "metadata": {},
   "outputs": [],
   "source": [
    "#With time slot and optimized\n",
    "\n",
    "def Observations(longitude, latitude, RA, DEC, Date_i, Date_f,time_scale):\n",
    "\n",
    "    #Definition of different variables:\n",
    "    actual_time = Time(Date_i,format = 'iso', scale='utc')\n",
    "    final_time = Time(Date_f,format = 'iso', scale='utc')\n",
    "    lat_conv = ConvertLaLo(latitude)\n",
    "    lon_conv = ConvertLaLo(longitude)\n",
    "    observer = EarthLocation(lat=lat_conv*u.deg, lon=lon_conv*u.deg)\n",
    "\n",
    "    #Lists of data for post-analysis\n",
    "    Big_Data = []\n",
    "    Time_values = []\n",
    "    Plot_coordinates = []\n",
    "\n",
    "    #Establish the time slot\n",
    "    while actual_time <= final_time:\n",
    "\n",
    "        #For each time slot we need the data of the conditional about observations\n",
    "        Conditionals = []\n",
    "        Plot = []\n",
    "        for i in range(0,len(RA)):\n",
    "\n",
    "            #Establish the coordinates with the correction from geocentric calculations of astropy\n",
    "            celestial_coord = SkyCoord(ra=RA[i], dec=DEC[i]) #Mantain the degrees units\n",
    "\n",
    "            # Calculate the coordenates AltAz for the time and observer\n",
    "            frame_altaz = AltAz(obstime=actual_time, location=observer)\n",
    "\n",
    "            #Transform the J2000 coordinate system for altaz\n",
    "            altaz_coord = celestial_coord.transform_to(frame_altaz) \n",
    "    \n",
    "            # Determinate if its observable (altitude > 0 degrees) in the altaz coordinate system, return a boolean\n",
    "            Conditionals.append(altaz_coord.alt > 0*u.deg)\n",
    "\n",
    "            #Put the altaz coordinates for the simulation\n",
    "            Plot.append([altaz_coord.az,altaz_coord.alt]) #In a tuple for each object, format: (az,alt)\n",
    "            \n",
    "\n",
    "        #Put teh conditionals of a time slot on a dataframe in the format for better reading\n",
    "        Data = pd.DataFrame([])\n",
    "        Data['Observable'] = Conditionals\n",
    "        Data['RA'] = RA\n",
    "        Data['Dec'] = DEC\n",
    "\n",
    "        #Put the dataframe in a list and the values of time\n",
    "        Big_Data.append(Data) \n",
    "        Time_values.append(actual_time)\n",
    "        Plot_coordinates.append(Plot)\n",
    "\n",
    "        #Actualize the time depending of the time scale\n",
    "        actual_time = MoveTime(actual_time,time_scale[0],time_scale[1])\n",
    "\n",
    "    return Big_Data,Time_values,Plot_coordinates\n",
    "\n",
    "Data, times, Plot_c = Observations(lon_obs, lat_obs, ra_list, dec_list, date_i, date_f,timescale)"
   ]
  },
  {
   "cell_type": "code",
   "execution_count": 98,
   "id": "6538e11c",
   "metadata": {},
   "outputs": [
    {
     "data": {
      "text/plain": [
       "<WCSAxes: >"
      ]
     },
     "execution_count": 98,
     "metadata": {},
     "output_type": "execute_result"
    },
    {
     "data": {
      "image/png": "[encoded data removed]",
      "text/plain": [
       "<Figure size 640x480 with 1 Axes>"
      ]
     },
     "metadata": {},
     "output_type": "display_data"
    }
   ],
   "source": [
    "def EstablishCoord(list_tuples):\n",
    "    lon_c = []\n",
    "    lat_c = []\n",
    "    for each in list_tuples:\n",
    "        lon_c.append(each[0])\n",
    "        lat_c.append(each[1])\n",
    "\n",
    "    return lon_c,lat_c\n",
    "\n",
    "lon, lat = EstablishCoord(Plot_c[0])\n",
    "\n",
    "wcs = WCS() #Command for be able to plot wit wcs\n",
    "fig = plt.figure()\n",
    "ax = WCSAxes(fig, [0.1, 0.1, 1.0, 1.0], wcs=wcs) #Like the size of the plot\n",
    "ax.scatter(lon[0],lat[0])\n",
    "ax.scatter(lon[1],lat[1])\n",
    "ax.scatter(lon[2],lat[2])\n",
    "fig.add_axes(ax)\n"
   ]
  },
  {
   "cell_type": "code",
   "execution_count": 99,
   "id": "a2860573",
   "metadata": {},
   "outputs": [],
   "source": [
    "# fig = plt.figure(figsize=(8,5))\n",
    "# ax = fig.add_subplot(221,projection='3d')\n",
    "# ax1 = fig.add_subplot(222)\n",
    "# ax2 = fig.add_subplot(223)\n",
    "\n",
    "# colors=['r','k','b']\n",
    "\n",
    "# def init():\n",
    "    \n",
    "#     ax.clear()\n",
    "#     ax.set_xlim(-1,1)\n",
    "#     ax.set_ylim(-1,1)\n",
    "#     ax.set_zlim(-1,1)\n",
    "    \n",
    "#     ax1.clear()\n",
    "#     ax1.set_xlim(-1,1)\n",
    "#     ax1.set_ylim(-1,1) \n",
    "    \n",
    "#     ax2.clear()\n",
    "#     ax2.set_xlim(-2,2)\n",
    "#     ax2.set_ylim(-2,2) \n",
    "    \n",
    "# def Update(i):\n",
    "    \n",
    "#     init()\n",
    "    \n",
    "#     for j, p in enumerate(Planetas):\n",
    "        \n",
    "#         x = p.GetPosition(scale)[i,0]\n",
    "#         y = p.GetPosition(scale)[i,1]\n",
    "#         z = p.GetPosition(scale)[i,2]\n",
    "        \n",
    "#         vx = p.GetVelocity(scale)[i,0]\n",
    "#         vy = p.GetVelocity(scale)[i,1]\n",
    "#         vz = p.GetVelocity(scale)[i,2]\n",
    "    \n",
    "#         ax.scatter(0,0,0,s=200,color='y')\n",
    "#         ax.quiver(x,y,z,vx,vy,vz,color=colors[j],length=0.03)\n",
    "        \n",
    "#         ax.scatter(x,y,z,color=colors[j])\n",
    "        \n",
    "#         circle = plt.Circle((x,y),0.1,color=colors[j],fill=True)\n",
    "#         ax1.add_patch(circle)\n",
    "\n",
    "# Animation = anim.FuncAnimation(fig,Update,frames=len(t1),init_func=init)"
   ]
  }
 ],
 "metadata": {
  "kernelspec": {
   "display_name": "base",
   "language": "python",
   "name": "python3"
  },
  "language_info": {
   "codemirror_mode": {
    "name": "ipython",
    "version": 3
   },
   "file_extension": ".py",
   "mimetype": "text/x-python",
   "name": "python",
   "nbconvert_exporter": "python",
   "pygments_lexer": "ipython3",
   "version": "3.11.7"
  }
 },
 "nbformat": 4,
 "nbformat_minor": 5
}
