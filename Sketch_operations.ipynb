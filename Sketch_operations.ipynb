{
 "cells": [
  {
   "cell_type": "code",
   "execution_count": 5,
   "id": "20051ab5-f0d8-4d82-a00b-3673882c19f6",
   "metadata": {},
   "outputs": [],
   "source": [
    "import numpy as np\n",
    "import matplotlib.pyplot as plt\n",
    "import pandas as pd\n",
    "import sympy as sym\n",
    "from scipy import constants as C\n",
    "from astropy.coordinates import SkyCoord, EarthLocation, AltAz\n",
    "from astropy.time import Time\n",
    "from astropy import units as u"
   ]
  },
  {
   "cell_type": "markdown",
   "id": "dac6ee35",
   "metadata": {},
   "source": [
    "**Conditional about observations:**\n",
    "\n",
    "The user gives the latitude and the functions returns if the phenomenon can be see it or not. This using the conditional about declination and latitude.\n",
    "\n",
    "Alert system's format DESI:\n"
   ]
  },
  {
   "cell_type": "code",
   "execution_count": 2,
   "id": "81b393fb-e8eb-4db4-8674-aff753456b5d",
   "metadata": {},
   "outputs": [
    {
     "data": {
      "text/plain": [
       "(True, (80, 55, 'Sirius'))"
      ]
     },
     "execution_count": 2,
     "metadata": {},
     "output_type": "execute_result"
    }
   ],
   "source": [
    "A = [(80,55,\"Sirius\")]\n",
    "def ConditionalObservations(Latitude, AlertCoor):\n",
    "    for each in AlertCoor:\n",
    "        if each[0] <90 - Latitude:\n",
    "            return True,each\n",
    "        else:\n",
    "            return False\n",
    "\n",
    "ConditionalObservations(5, A) "
   ]
  },
  {
   "cell_type": "code",
   "execution_count": null,
   "id": "b0de2e77",
   "metadata": {},
   "outputs": [],
   "source": [
    "\n",
    "# def es_observable(ra_list, dec_list, lat_obs, lon_obs, fecha):\n",
    "#     # Convertir la fecha a un objeto Time de astropy\n",
    "#     tiempo = Time(fecha)\n",
    "    \n",
    "#     # Crear la ubicación del observatorio\n",
    "#     observatorio = EarthLocation(lat=lat_obs*u.deg, lon=lon_obs*u.deg)\n",
    "    \n",
    "#     # Crear un array de coordenadas celestes (RA, Dec)\n",
    "#     coordenadas_celestes = SkyCoord(ra=ra_list*u.deg, dec=dec_list*u.deg)\n",
    "    \n",
    "#     # Calcular las coordenadas altazimutales para el tiempo y ubicación dados\n",
    "#     frame_altaz = AltAz(obstime=tiempo, location=observatorio)\n",
    "#     coordenadas_altaz = coordenadas_celestes.transform_to(frame_altaz)\n",
    "    \n",
    "#     # Determinar si el objeto es observable (altitud > 0 grados)\n",
    "#     observable = coordenadas_altaz.alt > 0*u.deg\n",
    "    \n",
    "#     return observable\n",
    "\n",
    "# # Ejemplo de uso\n",
    "# ra_list = [83.633, 88.792, 92.985]  # Lista de RA en grados\n",
    "# dec_list = [22.014, 20.091, 21.568]  # Lista de Dec en grados\n",
    "# lat_obs = 19.8207  # Latitud del observatorio en grados (ejemplo: Observatorio de San Pedro Mártir)\n",
    "# lon_obs = -155.4681  # Longitud del observatorio en grados (ejemplo: Mauna Kea)\n",
    "# fecha = '2023-10-15 00:00:00'  # Fecha y hora en formato ISO\n",
    "\n",
    "# # Verificar si los objetos son observables\n",
    "# observable = es_observable(ra_list, dec_list, lat_obs, lon_obs, fecha)\n",
    "# print(observable)"
   ]
  }
 ],
 "metadata": {
  "kernelspec": {
   "display_name": "base",
   "language": "python",
   "name": "python3"
  },
  "language_info": {
   "codemirror_mode": {
    "name": "ipython",
    "version": 3
   },
   "file_extension": ".py",
   "mimetype": "text/x-python",
   "name": "python",
   "nbconvert_exporter": "python",
   "pygments_lexer": "ipython3",
   "version": "3.11.7"
  }
 },
 "nbformat": 4,
 "nbformat_minor": 5
}
