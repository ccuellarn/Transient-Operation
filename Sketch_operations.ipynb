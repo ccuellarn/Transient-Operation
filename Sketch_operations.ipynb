{
 "cells": [
  {
   "cell_type": "code",
   "execution_count": 1,
   "id": "20051ab5-f0d8-4d82-a00b-3673882c19f6",
   "metadata": {},
   "outputs": [],
   "source": [
    "import numpy as np\n",
    "import matplotlib.pyplot as plt\n",
    "import pandas as pd\n",
    "import sympy as sym\n",
    "from scipy import constants as C"
   ]
  },
  {
   "cell_type": "markdown",
   "id": "e71a1fdb-33a7-448b-97a5-23078815cc67",
   "metadata": {},
   "source": [
    "For galilean telescopes we have that the limit magnitude are:\n",
    "$$ M = 12.5 + 5log_{10}(D) \\quad \\quad \\text{D is the telescopes diameter}$$\n",
    "And the area that can be reached are determinate for the type of telescope (Newtonian and galilean)."
   ]
  },
  {
   "cell_type": "code",
   "execution_count": 6,
   "id": "81b393fb-e8eb-4db4-8674-aff753456b5d",
   "metadata": {},
   "outputs": [
    {
     "name": "stdout",
     "output_type": "stream",
     "text": [
      "For the given data the limit magnitude are 18.78 and the covered area are 3.24 degrees\n"
     ]
    }
   ],
   "source": [
    "def TelescopeInfo(diameter,type):\n",
    "    Ml = 12.5 + 5*np.log10(diameter)\n",
    "    if type == 'newtonian':\n",
    "        visualc = (diameter / 10) #in degrees\n",
    "    elif type == 'galilean':\n",
    "        visualc = (diameter / 15) \n",
    "    area = visualc ** 2\n",
    "    return round(Ml,2),round(area,2)\n",
    "\n",
    "ml,a = TelescopeInfo(18,'newtonian') \n",
    "print('For the given data the limit magnitude are {} and the covered area are {} degrees'.format(ml,a))"
   ]
  }
 ],
 "metadata": {
  "kernelspec": {
   "display_name": "base",
   "language": "python",
   "name": "python3"
  },
  "language_info": {
   "codemirror_mode": {
    "name": "ipython",
    "version": 3
   },
   "file_extension": ".py",
   "mimetype": "text/x-python",
   "name": "python",
   "nbconvert_exporter": "python",
   "pygments_lexer": "ipython3",
   "version": "3.11.7"
  }
 },
 "nbformat": 4,
 "nbformat_minor": 5
}
